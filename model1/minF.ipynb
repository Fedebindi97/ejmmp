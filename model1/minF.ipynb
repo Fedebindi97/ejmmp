{
 "cells": [
  {
   "cell_type": "code",
   "execution_count": 29,
   "id": "388fedf9-9768-4f9a-8621-c90a73883abb",
   "metadata": {},
   "outputs": [
    {
     "name": "stdout",
     "output_type": "stream",
     "text": [
      "found 0.2 value as min\n"
     ]
    }
   ],
   "source": [
    "#try one o the following; invComp will be a sublist of investmentComposition\n",
    "\n",
    "invComp=[0.25, 0.10, 0.  , 0.65]  # gives 0.2\n",
    "#invComp=[0.25, 0.10, 0.30, 0.35]  # gives 0\n",
    "#invComp=[0.25, 0.10, 0.,   0.]\n",
    "#invComp=[0.25, 0.10, 0.65]\n",
    "\n",
    "proportions=[0.2, 0.3, 0, 0.4]\n",
    "\n",
    "def minF(i,p): # return min p not considering p[j] id i[0]==0\n",
    "\n",
    "    if sum(i) < 0.999 or sum(i) > 1.001: # < & > to avoid interna rounding effects, \n",
    "                                         # e.g. sum([0.25, 0.10, 0.30, 0.35]) => 0.9999999999999999\n",
    "\n",
    "        raise TypeError(\"Sum of investment composition != 1\")\n",
    "\n",
    "    if len(i) != len(p):\n",
    "        raise TypeError(\"List lenghts do not match in function minF\")\n",
    "\n",
    "    m=p[0]\n",
    "\n",
    "    for j in range(1,len(i)):\n",
    "        if i[j] != 0 and p[j] < m: m=p[j]\n",
    "\n",
    "    return m\n",
    "\n",
    "print (\"found\",minF(invComp,proportions),\"value as min\")"
   ]
  },
  {
   "cell_type": "code",
   "execution_count": 30,
   "id": "529ce140-a595-48a1-b89c-329f01344d26",
   "metadata": {},
   "outputs": [],
   "source": [
    "a=[[0.25, 0.10, 0.0, 0.65],[0.25, 0.10, 0.40, 0.25]]"
   ]
  },
  {
   "cell_type": "code",
   "execution_count": 31,
   "id": "ab7d2c17-97b9-42ea-81e5-12962675064f",
   "metadata": {},
   "outputs": [
    {
     "data": {
      "text/plain": [
       "[[0.25, 0.1, 0.0, 0.65], [0.25, 0.1, 0.4, 0.25]]"
      ]
     },
     "execution_count": 31,
     "metadata": {},
     "output_type": "execute_result"
    }
   ],
   "source": [
    "a"
   ]
  },
  {
   "cell_type": "code",
   "execution_count": 32,
   "id": "05867d97-2414-4e07-9f0d-6d5c0774eee7",
   "metadata": {},
   "outputs": [
    {
     "data": {
      "text/plain": [
       "0.2"
      ]
     },
     "execution_count": 32,
     "metadata": {},
     "output_type": "execute_result"
    }
   ],
   "source": [
    "minF(a[0],proportions)"
   ]
  },
  {
   "cell_type": "code",
   "execution_count": 33,
   "id": "f617af78-a76c-494d-9703-0f602b400163",
   "metadata": {},
   "outputs": [
    {
     "data": {
      "text/plain": [
       "0"
      ]
     },
     "execution_count": 33,
     "metadata": {},
     "output_type": "execute_result"
    }
   ],
   "source": [
    "minF(a[1],proportions)"
   ]
  },
  {
   "cell_type": "code",
   "execution_count": null,
   "id": "f3b11307-89de-4cae-aacd-c1317a7362c6",
   "metadata": {},
   "outputs": [],
   "source": []
  }
 ],
 "metadata": {
  "kernelspec": {
   "display_name": "Python 3 (ipykernel)",
   "language": "python",
   "name": "python3"
  },
  "language_info": {
   "codemirror_mode": {
    "name": "ipython",
    "version": 3
   },
   "file_extension": ".py",
   "mimetype": "text/x-python",
   "name": "python",
   "nbconvert_exporter": "python",
   "pygments_lexer": "ipython3",
   "version": "3.11.7"
  }
 },
 "nbformat": 4,
 "nbformat_minor": 5
}
