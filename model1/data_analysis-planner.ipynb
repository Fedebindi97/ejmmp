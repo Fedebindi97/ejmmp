{
 "cells": [
  {
   "cell_type": "raw",
   "id": "4725a3d7-a0a8-423f-a0f5-5f7f95348240",
   "metadata": {},
   "source": [
    "%%javascript\n",
    "// to avoid scroll in windows\n",
    "IPython.OutputArea.prototype._should_scroll = function(lines) {\n",
    "    return false;\n",
    "}"
   ]
  },
  {
   "cell_type": "code",
   "execution_count": null,
   "id": "5c899d08",
   "metadata": {},
   "outputs": [
    {
     "name": "stdout",
     "output_type": "stream",
     "text": [
      "The name of your input folder without extension: PlannerPropMax1\n",
      "PlannerPropMax1: wrong name\n",
      "The name of your input folder, without extension: PlannerPropMax1-control-test\n",
      "PlannerPropMax1-control-test: wrong name\n",
      "The name of your input folder, without extension: PlannerPropMax1\n",
      "PlannerPropMax1: wrong name\n"
     ]
    }
   ],
   "source": [
    "import pandas as pd\n",
    "import csv\n",
    "import os\n",
    "\n",
    "myListDir=os.listdir()\n",
    "folder=input(\"The name of your input folder without extension: \")\n",
    "while not folder+\".0\" in myListDir: #extension 0 certainly exists, as we have at least one rank\n",
    "    print(folder+\": wrong name\")\n",
    "    folder=input(\"The name of your input folder, without extension: \")\n",
    "\n",
    "os.chdir(\"./\"+folder+\".0\") #extension 0 certainly exists, as we have at least one rank\n",
    "\n",
    "with open(\"plotInfo.csv\",\"r\") as data:\n",
    "    reader = csv.reader(data, delimiter = ',')\n",
    "    for row in reader:\n",
    "        fileNameRoot=row[0] #the names of the files contating the data start with...\n",
    "        rankNum=int(row[1]) #we have file from different ranks, reported in different folders with name, for a specific\n",
    "                            #rank: fileNameRoot+\".\"+str(rank)\n",
    "        #ag0num=int(row[2])  #how many agents in each rank, with type==0\n",
    "\n",
    "#current folders\n",
    "print(\"Current folders are:\")\n",
    "for k in range(rankNum):\n",
    "    print(folder+\".\"+str(k))"
   ]
  },
  {
   "cell_type": "code",
   "execution_count": null,
   "id": "f27a8815",
   "metadata": {},
   "outputs": [],
   "source": [
    "#display all the rows of the dataframe  \n",
    "pd.set_option('display.max_rows', None)"
   ]
  },
  {
   "cell_type": "code",
   "execution_count": null,
   "id": "c4ec1b89",
   "metadata": {},
   "outputs": [],
   "source": [
    "names=[\"inv goods bought\", \"inv goods inventories\", \"grossInvQ\", \"grossInvQ*price\",\"grossInvExpected (value)\"]"
   ]
  },
  {
   "cell_type": "code",
   "execution_count": null,
   "id": "40be28cf-b2d0-4ca3-8f5a-002c340e2933",
   "metadata": {},
   "outputs": [],
   "source": [
    "os.chdir(\"../\"+folder+\".0\")\n",
    "#planner info database from rank==0\n",
    "plannerInfo=pd.read_csv('plannerInfo.csv', header=None)\n",
    "#print(plannerInfo)\n",
    "#planner info database from rank > 0\n",
    "for k in range(1,rankNum):   #add the same series from the other folders (if ranknum==1, no execution\n",
    "    #which folder\n",
    "    os.chdir(\"../\"+folder+\".\"+str(k))\n",
    "    plannerInfo=plannerInfo.add(pd.read_csv('plannerInfo.csv', header=None))\n",
    "plannerInfo.columns=names\n",
    "#pd.DataFrame(plannerInfo)"
   ]
  },
  {
   "cell_type": "code",
   "execution_count": null,
   "id": "2d5c9fcf-9e83-4191-b8cf-e5a39107c38c",
   "metadata": {},
   "outputs": [],
   "source": [
    "plannerInfo"
   ]
  },
  {
   "cell_type": "code",
   "execution_count": null,
   "id": "781e6ce6-39ab-4b4f-a613-6ce0cdbfd703",
   "metadata": {},
   "outputs": [],
   "source": [
    "fig=plannerInfo.plot(figsize=(12,6), title=\"Central Planner Data and Observations, folder => \" + folder,\\\n",
    "                     xlabel=\"months\")\n",
    "picture=fig.get_figure()\n",
    "os.chdir(\"../\"+folder+\".0\")\n",
    "picture.savefig(\"_\"+folder+\"_centralPlannerPlot.jpg\",dpi=180)\n"
   ]
  },
  {
   "cell_type": "code",
   "execution_count": null,
   "id": "8209e66c-5a76-4ea3-a945-4ebc2bd7c9d0",
   "metadata": {},
   "outputs": [],
   "source": [
    "fig=plannerInfo[\"inv goods bought\"].plot(figsize=(12,6), \\\n",
    "        title=\"Central Planner Data and Observations [inv goods bought], folder => \" + folder,xlabel=\"months\")\n",
    "picture=fig.get_figure()\n",
    "os.chdir(\"../\"+folder+\".0\")\n",
    "picture.savefig(\"_\"+folder+\"_centralPlannerPlotInvGoodsBought.jpg\",dpi=180)"
   ]
  },
  {
   "cell_type": "code",
   "execution_count": null,
   "id": "474370e9",
   "metadata": {},
   "outputs": [],
   "source": [
    "fig=plannerInfo[[\"inv goods bought\", \"inv goods inventories\", \"grossInvQ\", \"grossInvQ*price\"]].plot(figsize=(12,6), \\\n",
    "        title=\"Central Planner Data and Observations, excluding [grossInvExpected (value)], folder => \" + folder,xlabel=\"months\")\n",
    "picture=fig.get_figure()\n",
    "os.chdir(\"../\"+folder+\".0\")\n",
    "picture.savefig(\"_\"+folder+\"_centralPlannerPlotInvGoodsBought.jpg\",dpi=180)"
   ]
  },
  {
   "cell_type": "code",
   "execution_count": null,
   "id": "257392b6-d1dd-423a-9622-47f1d90bf40a",
   "metadata": {},
   "outputs": [],
   "source": []
  }
 ],
 "metadata": {
  "kernelspec": {
   "display_name": "Python 3 (ipykernel)",
   "language": "python",
   "name": "python3"
  },
  "language_info": {
   "codemirror_mode": {
    "name": "ipython",
    "version": 3
   },
   "file_extension": ".py",
   "mimetype": "text/x-python",
   "name": "python",
   "nbconvert_exporter": "python",
   "pygments_lexer": "ipython3",
   "version": "3.8.10"
  }
 },
 "nbformat": 4,
 "nbformat_minor": 5
}
