{
 "cells": [
  {
   "cell_type": "code",
   "execution_count": 1,
   "id": "2b83c8bc",
   "metadata": {},
   "outputs": [
    {
     "data": {
      "text/html": [
       "<div>\n",
       "<style scoped>\n",
       "    .dataframe tbody tr th:only-of-type {\n",
       "        vertical-align: middle;\n",
       "    }\n",
       "\n",
       "    .dataframe tbody tr th {\n",
       "        vertical-align: top;\n",
       "    }\n",
       "\n",
       "    .dataframe thead th {\n",
       "        text-align: right;\n",
       "    }\n",
       "</style>\n",
       "<table border=\"1\" class=\"dataframe\">\n",
       "  <thead>\n",
       "    <tr style=\"text-align: right;\">\n",
       "      <th></th>\n",
       "      <th>0</th>\n",
       "      <th>1</th>\n",
       "      <th>2</th>\n",
       "    </tr>\n",
       "  </thead>\n",
       "  <tbody>\n",
       "    <tr>\n",
       "      <th>0</th>\n",
       "      <td>[1, 2, 3]</td>\n",
       "      <td>4</td>\n",
       "      <td>5</td>\n",
       "    </tr>\n",
       "    <tr>\n",
       "      <th>1</th>\n",
       "      <td>[6, 7, 8]</td>\n",
       "      <td>9</td>\n",
       "      <td>0</td>\n",
       "    </tr>\n",
       "  </tbody>\n",
       "</table>\n",
       "</div>"
      ],
      "text/plain": [
       "           0  1  2\n",
       "0  [1, 2, 3]  4  5\n",
       "1  [6, 7, 8]  9  0"
      ]
     },
     "execution_count": 1,
     "metadata": {},
     "output_type": "execute_result"
    }
   ],
   "source": [
    "import csv\n",
    "import pandas as pd\n",
    "\n",
    "a=[ [0,4,5],\\\n",
    "    [0,9,0]]\n",
    "a[0][0]=[1,2,3]\n",
    "a[1][0]=[6,7,8]\n",
    "\n",
    "aa=pd.DataFrame(a)\n",
    "aa"
   ]
  },
  {
   "cell_type": "code",
   "execution_count": 2,
   "id": "dfe87291",
   "metadata": {},
   "outputs": [
    {
     "data": {
      "text/plain": [
       "0    [1, 2, 3]\n",
       "1    [6, 7, 8]\n",
       "Name: 0, dtype: object"
      ]
     },
     "execution_count": 2,
     "metadata": {},
     "output_type": "execute_result"
    }
   ],
   "source": [
    "aa[0]"
   ]
  },
  {
   "cell_type": "code",
   "execution_count": 3,
   "id": "a15d9988",
   "metadata": {},
   "outputs": [
    {
     "data": {
      "text/plain": [
       "pandas.core.series.Series"
      ]
     },
     "execution_count": 3,
     "metadata": {},
     "output_type": "execute_result"
    }
   ],
   "source": [
    "type(aa[0])"
   ]
  },
  {
   "cell_type": "raw",
   "id": "e298b87d",
   "metadata": {},
   "source": [
    "aa[0] and aa[1] are pandas core series\n",
    "\n",
    "aa[0][0] is a list\n",
    "aa[0][1] is a numpy.int64\n",
    "\n",
    "aa[0][0][0] is an int"
   ]
  },
  {
   "cell_type": "code",
   "execution_count": 4,
   "id": "db30e77b",
   "metadata": {},
   "outputs": [
    {
     "data": {
      "text/plain": [
       "[[1, 2, 3], [6, 7, 8]]"
      ]
     },
     "execution_count": 4,
     "metadata": {},
     "output_type": "execute_result"
    }
   ],
   "source": [
    "aa[0].to_list()"
   ]
  },
  {
   "cell_type": "code",
   "execution_count": 5,
   "id": "bffca924",
   "metadata": {},
   "outputs": [
    {
     "name": "stdout",
     "output_type": "stream",
     "text": [
      "<class 'pandas.core.frame.DataFrame'>\n"
     ]
    },
    {
     "data": {
      "text/html": [
       "<div>\n",
       "<style scoped>\n",
       "    .dataframe tbody tr th:only-of-type {\n",
       "        vertical-align: middle;\n",
       "    }\n",
       "\n",
       "    .dataframe tbody tr th {\n",
       "        vertical-align: top;\n",
       "    }\n",
       "\n",
       "    .dataframe thead th {\n",
       "        text-align: right;\n",
       "    }\n",
       "</style>\n",
       "<table border=\"1\" class=\"dataframe\">\n",
       "  <thead>\n",
       "    <tr style=\"text-align: right;\">\n",
       "      <th></th>\n",
       "      <th>0</th>\n",
       "      <th>1</th>\n",
       "      <th>2</th>\n",
       "    </tr>\n",
       "  </thead>\n",
       "  <tbody>\n",
       "    <tr>\n",
       "      <th>0</th>\n",
       "      <td>1</td>\n",
       "      <td>2</td>\n",
       "      <td>3</td>\n",
       "    </tr>\n",
       "    <tr>\n",
       "      <th>1</th>\n",
       "      <td>6</td>\n",
       "      <td>7</td>\n",
       "      <td>8</td>\n",
       "    </tr>\n",
       "  </tbody>\n",
       "</table>\n",
       "</div>"
      ],
      "text/plain": [
       "   0  1  2\n",
       "0  1  2  3\n",
       "1  6  7  8"
      ]
     },
     "execution_count": 5,
     "metadata": {},
     "output_type": "execute_result"
    }
   ],
   "source": [
    "#here we create a new dataframe x, which is done only with the first column of lists, splitted in multiple columns\n",
    "\n",
    "x=[]\n",
    "x=pd.DataFrame(aa[0].tolist())\n",
    "\n",
    "print(type(x))\n",
    "x"
   ]
  },
  {
   "cell_type": "code",
   "execution_count": 6,
   "id": "a018aff1",
   "metadata": {},
   "outputs": [
    {
     "data": {
      "text/html": [
       "<div>\n",
       "<style scoped>\n",
       "    .dataframe tbody tr th:only-of-type {\n",
       "        vertical-align: middle;\n",
       "    }\n",
       "\n",
       "    .dataframe tbody tr th {\n",
       "        vertical-align: top;\n",
       "    }\n",
       "\n",
       "    .dataframe thead th {\n",
       "        text-align: right;\n",
       "    }\n",
       "</style>\n",
       "<table border=\"1\" class=\"dataframe\">\n",
       "  <thead>\n",
       "    <tr style=\"text-align: right;\">\n",
       "      <th></th>\n",
       "      <th>investments1</th>\n",
       "      <th>investments2</th>\n",
       "      <th>investments3</th>\n",
       "      <th>inventories</th>\n",
       "      <th>expected investments</th>\n",
       "    </tr>\n",
       "  </thead>\n",
       "  <tbody>\n",
       "    <tr>\n",
       "      <th>0</th>\n",
       "      <td>1</td>\n",
       "      <td>2</td>\n",
       "      <td>3</td>\n",
       "      <td>4</td>\n",
       "      <td>5</td>\n",
       "    </tr>\n",
       "    <tr>\n",
       "      <th>1</th>\n",
       "      <td>6</td>\n",
       "      <td>7</td>\n",
       "      <td>8</td>\n",
       "      <td>9</td>\n",
       "      <td>0</td>\n",
       "    </tr>\n",
       "  </tbody>\n",
       "</table>\n",
       "</div>"
      ],
      "text/plain": [
       "   investments1  investments2  investments3  inventories  expected investments\n",
       "0             1             2             3            4                     5\n",
       "1             6             7             8            9                     0"
      ]
     },
     "execution_count": 6,
     "metadata": {},
     "output_type": "execute_result"
    }
   ],
   "source": [
    "aa = aa.drop([0], axis=1)\n",
    "\n",
    "aa = pd.concat([x, aa], axis=1)\n",
    "aa.columns = ['investments1','investments2', 'investments3', 'inventories','expected investments' ]\n",
    "aa"
   ]
  },
  {
   "cell_type": "code",
   "execution_count": 7,
   "id": "50f10004",
   "metadata": {},
   "outputs": [],
   "source": [
    "aa.to_csv(\"out.csv\", header = False, index = False)"
   ]
  },
  {
   "cell_type": "markdown",
   "id": "0a59f731-94d5-4ca2-ad5e-e96d3f618d58",
   "metadata": {},
   "source": [
    "# altra via da vecchio programmatore..."
   ]
  },
  {
   "cell_type": "code",
   "execution_count": 8,
   "id": "6a76c35e-c5e8-4a1f-8a5e-4d56d760e895",
   "metadata": {},
   "outputs": [
    {
     "data": {
      "text/plain": [
       "[[1, 2, 3], [11, 12, 13]]"
      ]
     },
     "execution_count": 8,
     "metadata": {},
     "output_type": "execute_result"
    }
   ],
   "source": [
    "d=[[[1,2],3],[[11,12],13]]\n",
    "g=[]\n",
    "\n",
    "def flattenList(d,g):\n",
    "    for i in range(len(d)):\n",
    "        g.append([])\n",
    "        for j in range(len(d[i])):\n",
    "            if isinstance(d[i][j],list):\n",
    "                for k in range(len(d[i][j])):\n",
    "                    g[i].append(d[i][j][k])\n",
    "            else: g[i].append(d[i][j])\n",
    "g"
   ]
  },
  {
   "cell_type": "code",
   "execution_count": null,
   "id": "5cd4877c-a1ac-4cea-8ece-0e8ab0281ec7",
   "metadata": {},
   "outputs": [],
   "source": []
  }
 ],
 "metadata": {
  "kernelspec": {
   "display_name": "Python 3 (ipykernel)",
   "language": "python",
   "name": "python3"
  },
  "language_info": {
   "codemirror_mode": {
    "name": "ipython",
    "version": 3
   },
   "file_extension": ".py",
   "mimetype": "text/x-python",
   "name": "python",
   "nbconvert_exporter": "python",
   "pygments_lexer": "ipython3",
   "version": "3.8.10"
  }
 },
 "nbformat": 4,
 "nbformat_minor": 5
}
