{
 "cells": [
  {
   "cell_type": "markdown",
   "id": "e1b863ed-9762-4527-a5b5-14d81f500fd9",
   "metadata": {},
   "source": [
    "# caso in model 1.4"
   ]
  },
  {
   "cell_type": "raw",
   "id": "b03ee24d-1be1-42d8-b1cd-7a64464b884e",
   "metadata": {},
   "source": [
    "        self.informationTable= [[0]*5] * params['howManyCycles'] #col 5 not used multiranks,\n",
    "                                                            #it only reports gross exp inv in output ##ptpt\n",
    "        for i in range(params['howManyCycles']):\n",
    "            self.informationTable[i][0] = [0]*len(params['investmentGoods'])"
   ]
  },
  {
   "cell_type": "markdown",
   "id": "30d742c7-9d23-4683-9129-440047f1ed04",
   "metadata": {},
   "source": [
    "\n",
    "\n",
    "# lo stesso caso, eseguibile qui\n",
    "\n"
   ]
  },
  {
   "cell_type": "code",
   "execution_count": 1,
   "id": "7e4ed4f6-abdf-4907-b8da-10b78066cd62",
   "metadata": {},
   "outputs": [
    {
     "data": {
      "text/plain": [
       "[[0, 0, 0, 0, 0],\n",
       " [0, 0, 0, 0, 0],\n",
       " [0, 0, 0, 0, 0],\n",
       " [0, 0, 0, 0, 0],\n",
       " [0, 0, 0, 0, 0],\n",
       " [0, 0, 0, 0, 0],\n",
       " [0, 0, 0, 0, 0],\n",
       " [0, 0, 0, 0, 0],\n",
       " [0, 0, 0, 0, 0],\n",
       " [0, 0, 0, 0, 0]]"
      ]
     },
     "execution_count": 1,
     "metadata": {},
     "output_type": "execute_result"
    }
   ],
   "source": [
    "informationTable= [[0]*5] * 10\n",
    "informationTable"
   ]
  },
  {
   "cell_type": "code",
   "execution_count": 2,
   "id": "38d4dfb2-394c-4411-a8b6-4cd0b2db1c9f",
   "metadata": {},
   "outputs": [
    {
     "data": {
      "text/plain": [
       "[[0, 0, 0, 0, 1],\n",
       " [0, 0, 0, 0, 1],\n",
       " [0, 0, 0, 0, 1],\n",
       " [0, 0, 0, 0, 1],\n",
       " [0, 0, 0, 0, 1],\n",
       " [0, 0, 0, 0, 1],\n",
       " [0, 0, 0, 0, 1],\n",
       " [0, 0, 0, 0, 1],\n",
       " [0, 0, 0, 0, 1],\n",
       " [0, 0, 0, 0, 1]]"
      ]
     },
     "execution_count": 2,
     "metadata": {},
     "output_type": "execute_result"
    }
   ],
   "source": [
    "informationTable[0][4]=1\n",
    "informationTable"
   ]
  },
  {
   "cell_type": "code",
   "execution_count": 3,
   "id": "51d66c93-a2ca-4bab-8ac0-6953e6b9b425",
   "metadata": {},
   "outputs": [
    {
     "data": {
      "text/plain": [
       "[[[0, 0, 0], 0, 0, 0, 1],\n",
       " [[0, 0, 0], 0, 0, 0, 1],\n",
       " [[0, 0, 0], 0, 0, 0, 1],\n",
       " [[0, 0, 0], 0, 0, 0, 1],\n",
       " [[0, 0, 0], 0, 0, 0, 1],\n",
       " [[0, 0, 0], 0, 0, 0, 1],\n",
       " [[0, 0, 0], 0, 0, 0, 1],\n",
       " [[0, 0, 0], 0, 0, 0, 1],\n",
       " [[0, 0, 0], 0, 0, 0, 1],\n",
       " [[0, 0, 0], 0, 0, 0, 1]]"
      ]
     },
     "execution_count": 3,
     "metadata": {},
     "output_type": "execute_result"
    }
   ],
   "source": [
    "for i in range(10):\n",
    "    informationTable[i][0] = [0]*3\n",
    "informationTable"
   ]
  },
  {
   "cell_type": "code",
   "execution_count": 4,
   "id": "0a534a51-78ca-46d7-a8a5-9e7cd9fcb536",
   "metadata": {},
   "outputs": [
    {
     "data": {
      "text/plain": [
       "[[[11, 0, 0], 0, 0, 0, 1],\n",
       " [[11, 0, 0], 0, 0, 0, 1],\n",
       " [[11, 0, 0], 0, 0, 0, 1],\n",
       " [[11, 0, 0], 0, 0, 0, 1],\n",
       " [[11, 0, 0], 0, 0, 0, 1],\n",
       " [[11, 0, 0], 0, 0, 0, 1],\n",
       " [[11, 0, 0], 0, 0, 0, 1],\n",
       " [[11, 0, 0], 0, 0, 0, 1],\n",
       " [[11, 0, 0], 0, 0, 0, 1],\n",
       " [[11, 0, 0], 0, 0, 0, 1]]"
      ]
     },
     "execution_count": 4,
     "metadata": {},
     "output_type": "execute_result"
    }
   ],
   "source": [
    "informationTable[0][0][0]=11\n",
    "informationTable"
   ]
  },
  {
   "cell_type": "markdown",
   "id": "779cac00-77e8-4b00-9d1e-cf3ad224fda9",
   "metadata": {},
   "source": [
    "# informationTable2"
   ]
  },
  {
   "cell_type": "code",
   "execution_count": 5,
   "id": "4e24f77a-9e57-462c-9fcc-13b38935aeb1",
   "metadata": {},
   "outputs": [
    {
     "data": {
      "text/plain": [
       "[[0, 0, 0, 0, 0],\n",
       " [0, 0, 0, 0, 0],\n",
       " [0, 0, 0, 0, 0],\n",
       " [0, 0, 0, 0, 0],\n",
       " [0, 0, 0, 0, 0],\n",
       " [0, 0, 0, 0, 0],\n",
       " [0, 0, 0, 0, 0],\n",
       " [0, 0, 0, 0, 0],\n",
       " [0, 0, 0, 0, 0],\n",
       " [0, 0, 0, 0, 0]]"
      ]
     },
     "execution_count": 5,
     "metadata": {},
     "output_type": "execute_result"
    }
   ],
   "source": [
    "L=[0]*5\n",
    "informationTable2=[L.copy()]*10\n",
    "informationTable2"
   ]
  },
  {
   "cell_type": "code",
   "execution_count": 6,
   "id": "3f589866-5879-4718-a05c-4d7e6056b6f5",
   "metadata": {},
   "outputs": [
    {
     "data": {
      "text/plain": [
       "[[0, 0, 0, 0, 1],\n",
       " [0, 0, 0, 0, 1],\n",
       " [0, 0, 0, 0, 1],\n",
       " [0, 0, 0, 0, 1],\n",
       " [0, 0, 0, 0, 1],\n",
       " [0, 0, 0, 0, 1],\n",
       " [0, 0, 0, 0, 1],\n",
       " [0, 0, 0, 0, 1],\n",
       " [0, 0, 0, 0, 1],\n",
       " [0, 0, 0, 0, 1]]"
      ]
     },
     "execution_count": 6,
     "metadata": {},
     "output_type": "execute_result"
    }
   ],
   "source": [
    "informationTable2[0][4]=1\n",
    "informationTable2"
   ]
  },
  {
   "cell_type": "code",
   "execution_count": 8,
   "id": "da62f020-abf8-42be-b9bd-76732c999709",
   "metadata": {},
   "outputs": [
    {
     "data": {
      "text/plain": [
       "[0, 0, 0, 0, 0]"
      ]
     },
     "execution_count": 8,
     "metadata": {},
     "output_type": "execute_result"
    }
   ],
   "source": [
    "L"
   ]
  },
  {
   "cell_type": "markdown",
   "id": "4c9070c4-66e9-47c9-a373-4636f0b3a68b",
   "metadata": {},
   "source": [
    "# informationTable3"
   ]
  },
  {
   "cell_type": "code",
   "execution_count": 9,
   "id": "01754519-545b-4546-b563-7ed1f6460efc",
   "metadata": {},
   "outputs": [
    {
     "data": {
      "text/plain": [
       "[[0, 0, 0, 0, 0],\n",
       " [0, 0, 0, 0, 0],\n",
       " [0, 0, 0, 0, 0],\n",
       " [0, 0, 0, 0, 0],\n",
       " [0, 0, 0, 0, 0],\n",
       " [0, 0, 0, 0, 0],\n",
       " [0, 0, 0, 0, 0],\n",
       " [0, 0, 0, 0, 0],\n",
       " [0, 0, 0, 0, 0],\n",
       " [0, 0, 0, 0, 0]]"
      ]
     },
     "execution_count": 9,
     "metadata": {},
     "output_type": "execute_result"
    }
   ],
   "source": [
    "informationTable3=[]\n",
    "for i in range(10):\n",
    "    informationTable3.append(L)\n",
    "informationTable3"
   ]
  },
  {
   "cell_type": "code",
   "execution_count": 10,
   "id": "b3c1f719-c358-4884-984e-3df86bae0c2a",
   "metadata": {},
   "outputs": [
    {
     "data": {
      "text/plain": [
       "[0, 0, 0, 0, 0]"
      ]
     },
     "execution_count": 10,
     "metadata": {},
     "output_type": "execute_result"
    }
   ],
   "source": [
    "L"
   ]
  },
  {
   "cell_type": "code",
   "execution_count": 11,
   "id": "b193805a-3ebb-43fe-a323-0864eccce846",
   "metadata": {},
   "outputs": [
    {
     "data": {
      "text/plain": [
       "[[0, 0, 0, 0, 1],\n",
       " [0, 0, 0, 0, 1],\n",
       " [0, 0, 0, 0, 1],\n",
       " [0, 0, 0, 0, 1],\n",
       " [0, 0, 0, 0, 1],\n",
       " [0, 0, 0, 0, 1],\n",
       " [0, 0, 0, 0, 1],\n",
       " [0, 0, 0, 0, 1],\n",
       " [0, 0, 0, 0, 1],\n",
       " [0, 0, 0, 0, 1]]"
      ]
     },
     "execution_count": 11,
     "metadata": {},
     "output_type": "execute_result"
    }
   ],
   "source": [
    "informationTable3[0][4]=1\n",
    "informationTable3"
   ]
  },
  {
   "cell_type": "code",
   "execution_count": 12,
   "id": "17ad5fe8-f3f2-4f96-93c6-1471bb86d81a",
   "metadata": {},
   "outputs": [
    {
     "data": {
      "text/plain": [
       "[0, 0, 0, 0, 1]"
      ]
     },
     "execution_count": 12,
     "metadata": {},
     "output_type": "execute_result"
    }
   ],
   "source": [
    "L"
   ]
  },
  {
   "cell_type": "markdown",
   "id": "bb2010c0-88a1-4799-b2df-f8cd15a7a8c3",
   "metadata": {},
   "source": [
    "# informationTable4"
   ]
  },
  {
   "cell_type": "code",
   "execution_count": 13,
   "id": "6c241343-6496-4e43-a201-82bd6bf9043d",
   "metadata": {},
   "outputs": [
    {
     "data": {
      "text/plain": [
       "[[0, 0, 0, 0, 0],\n",
       " [0, 0, 0, 0, 0],\n",
       " [0, 0, 0, 0, 0],\n",
       " [0, 0, 0, 0, 0],\n",
       " [0, 0, 0, 0, 0],\n",
       " [0, 0, 0, 0, 0],\n",
       " [0, 0, 0, 0, 0],\n",
       " [0, 0, 0, 0, 0],\n",
       " [0, 0, 0, 0, 0],\n",
       " [0, 0, 0, 0, 0]]"
      ]
     },
     "execution_count": 13,
     "metadata": {},
     "output_type": "execute_result"
    }
   ],
   "source": [
    "LL=[0]*5\n",
    "informationTable4=[]\n",
    "for i in range(10):\n",
    "    informationTable4.append(LL.copy())\n",
    "informationTable4"
   ]
  },
  {
   "cell_type": "code",
   "execution_count": 14,
   "id": "202e080f-902a-4ddc-99ac-eed053bc542c",
   "metadata": {},
   "outputs": [
    {
     "data": {
      "text/plain": [
       "[[0, 0, 0, 0, 1],\n",
       " [0, 0, 0, 0, 0],\n",
       " [0, 0, 0, 0, 0],\n",
       " [0, 0, 0, 0, 0],\n",
       " [0, 0, 0, 0, 0],\n",
       " [0, 0, 0, 0, 0],\n",
       " [0, 0, 0, 0, 0],\n",
       " [0, 0, 0, 0, 0],\n",
       " [0, 0, 0, 0, 0],\n",
       " [0, 0, 0, 0, 0]]"
      ]
     },
     "execution_count": 14,
     "metadata": {},
     "output_type": "execute_result"
    }
   ],
   "source": [
    "informationTable4[0][4]=1\n",
    "informationTable4"
   ]
  },
  {
   "cell_type": "code",
   "execution_count": 15,
   "id": "b1ab951f-7981-42c1-8a70-0e176283cb41",
   "metadata": {},
   "outputs": [
    {
     "data": {
      "text/plain": [
       "[0, 0, 0, 0, 0]"
      ]
     },
     "execution_count": 15,
     "metadata": {},
     "output_type": "execute_result"
    }
   ],
   "source": [
    "LL"
   ]
  },
  {
   "cell_type": "code",
   "execution_count": 16,
   "id": "8ddcb87d-3558-4ecc-93e5-674b05ddb98b",
   "metadata": {},
   "outputs": [
    {
     "data": {
      "text/plain": [
       "[[[0, 0, 0], 0, 0, 0, 1],\n",
       " [[0, 0, 0], 0, 0, 0, 0],\n",
       " [[0, 0, 0], 0, 0, 0, 0],\n",
       " [[0, 0, 0], 0, 0, 0, 0],\n",
       " [[0, 0, 0], 0, 0, 0, 0],\n",
       " [[0, 0, 0], 0, 0, 0, 0],\n",
       " [[0, 0, 0], 0, 0, 0, 0],\n",
       " [[0, 0, 0], 0, 0, 0, 0],\n",
       " [[0, 0, 0], 0, 0, 0, 0],\n",
       " [[0, 0, 0], 0, 0, 0, 0]]"
      ]
     },
     "execution_count": 16,
     "metadata": {},
     "output_type": "execute_result"
    }
   ],
   "source": [
    "for i in range(10):\n",
    "    informationTable4[i][0] = [0]*3\n",
    "informationTable4"
   ]
  },
  {
   "cell_type": "code",
   "execution_count": 17,
   "id": "8b0ee2e0-d673-4daa-ab02-cf3af3c79dc0",
   "metadata": {},
   "outputs": [
    {
     "data": {
      "text/plain": [
       "[[[11, 0, 0], 0, 0, 0, 1],\n",
       " [[0, 0, 0], 0, 0, 0, 0],\n",
       " [[0, 0, 0], 0, 0, 0, 0],\n",
       " [[0, 0, 0], 0, 0, 0, 0],\n",
       " [[0, 0, 0], 0, 0, 0, 0],\n",
       " [[0, 0, 0], 0, 0, 0, 0],\n",
       " [[0, 0, 0], 0, 0, 0, 0],\n",
       " [[0, 0, 0], 0, 0, 0, 0],\n",
       " [[0, 0, 0], 0, 0, 0, 0],\n",
       " [[0, 0, 0], 0, 0, 0, 0]]"
      ]
     },
     "execution_count": 17,
     "metadata": {},
     "output_type": "execute_result"
    }
   ],
   "source": [
    "informationTable4[0][0][0]=11\n",
    "informationTable4"
   ]
  },
  {
   "cell_type": "code",
   "execution_count": null,
   "id": "61c14766-7c7a-490a-a627-ce300ec57bf5",
   "metadata": {},
   "outputs": [],
   "source": []
  }
 ],
 "metadata": {
  "kernelspec": {
   "display_name": "Python 3 (ipykernel)",
   "language": "python",
   "name": "python3"
  },
  "language_info": {
   "codemirror_mode": {
    "name": "ipython",
    "version": 3
   },
   "file_extension": ".py",
   "mimetype": "text/x-python",
   "name": "python",
   "nbconvert_exporter": "python",
   "pygments_lexer": "ipython3",
   "version": "3.11.7"
  }
 },
 "nbformat": 4,
 "nbformat_minor": 5
}
