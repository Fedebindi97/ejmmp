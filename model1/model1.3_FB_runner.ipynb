{
 "cells": [
  {
   "cell_type": "code",
   "execution_count": 1,
   "metadata": {},
   "outputs": [],
   "source": [
    "import subprocess\n",
    "import random\n",
    "import time\n",
    "import oct2py\n",
    "from oct2py import octave\n",
    "import asyncio"
   ]
  },
  {
   "cell_type": "code",
   "execution_count": 2,
   "metadata": {},
   "outputs": [
    {
     "name": "stdout",
     "output_type": "stream",
     "text": [
      "['/Users/federico.bindi/Desktop/Collaborazione Pietro Terna/ejmmp/model1', '/Users/federico.bindi/anaconda3/envs/collaborazione_terna/lib/python310.zip', '/Users/federico.bindi/anaconda3/envs/collaborazione_terna/lib/python3.10', '/Users/federico.bindi/anaconda3/envs/collaborazione_terna/lib/python3.10/lib-dynload', '', '/Users/federico.bindi/anaconda3/envs/collaborazione_terna/lib/python3.10/site-packages', '/Users/federico.bindi/anaconda3/envs/collaborazione_terna/lib/python3.10/site-packages/PyQt5_sip-12.11.0-py3.10-macosx-11.1-arm64.egg', '/Users/federico.bindi/anaconda3/envs/collaborazione_terna/lib/python3.10/site-packages/aeosa', '/Users/federico.bindi/anaconda3/envs/collaborazione_terna/lib/python3.10/site-packages/mpmath-1.2.1-py3.10.egg', '/Users/federico.bindi/anaconda3/envs/collaborazione_terna/lib/python3.10/site-packages/pycurl-7.45.1-py3.10-macosx-11.1-arm64.egg']\n"
     ]
    }
   ],
   "source": [
    "import sys\n",
    "print(sys.path)\n"
   ]
  },
  {
   "cell_type": "code",
   "execution_count": 3,
   "metadata": {},
   "outputs": [
    {
     "name": "stdout",
     "output_type": "stream",
     "text": [
      "Octave computing...[\"share of firms of that class, L min, L max, K min, K max, order duration min, order duration max, recipe, L prod, max order production, assets' useful life, planned markup, order observation frequency min, order observation frequency max, production type \"]\n"
     ]
    },
    {
     "name": "stderr",
     "output_type": "stream",
     "text": [
      "Traceback (most recent call last):\n",
      "  File \"/Users/federico.bindi/Desktop/Collaborazione Pietro Terna/ejmmp/model1/model1.3_FB_runner_python.py\", line 105, in <module>\n",
      "    run(params)\n",
      "  File \"/Users/federico.bindi/Desktop/Collaborazione Pietro Terna/ejmmp/model1/model1.3_FB_runner_python.py\", line 102, in run\n",
      "    model = Model(params) \n",
      "  File \"/Users/federico.bindi/Desktop/Collaborazione Pietro Terna/ejmmp/model1/model1_3_FB_classes.py\", line 992, in __init__\n",
      "    if rank==0 and self.rowNumber>=0: print(\"last firm of sectorialClass==\",sectorialClass,\"=\",\\\n",
      "NameError: name 'rank' is not defined. Did you mean: 'range'?\n"
     ]
    },
    {
     "name": "stdout",
     "output_type": "stream",
     "text": [
      "Octave sending arrays of number_of_firms floats and number_of_firms integers\n",
      "OK\n",
      "Octave computing...Octave sending arrays of number_of_firms floats and number_of_firms integers\n",
      "OK\n",
      "Octave computing...Octave sending arrays of number_of_firms floats and number_of_firms integers\n",
      "OK\n",
      "Octave computing...Octave sending arrays of number_of_firms floats and number_of_firms integers\n",
      "OK\n",
      "Octave computing...Octave sending arrays of number_of_firms floats and number_of_firms integers\n",
      "OK\n",
      "Octave computing..."
     ]
    }
   ],
   "source": [
    "# Start the Python script\n",
    "python_process = subprocess.Popen([\"python\", \"model1.3_FB_runner_python.py\"])\n",
    "\n",
    "# Start the Octave script\n",
    "octave_process = subprocess.Popen([\"octave\", \"model1.3_FB_runner_octave.m\"])\n",
    "\n",
    "# Wait for processes to complete\n",
    "try:\n",
    "    python_process.wait()\n",
    "    octave_process.wait()\n",
    "except KeyboardInterrupt:\n",
    "    python_process.terminate()\n",
    "    octave_process.terminate()"
   ]
  }
 ],
 "metadata": {
  "kernelspec": {
   "display_name": "Python 3 (ipykernel)",
   "language": "python",
   "name": "python3"
  },
  "language_info": {
   "codemirror_mode": {
    "name": "ipython",
    "version": 3
   },
   "file_extension": ".py",
   "mimetype": "text/x-python",
   "name": "python",
   "nbconvert_exporter": "python",
   "pygments_lexer": "ipython3",
   "version": "3.10.9"
  }
 },
 "nbformat": 4,
 "nbformat_minor": 4
}
