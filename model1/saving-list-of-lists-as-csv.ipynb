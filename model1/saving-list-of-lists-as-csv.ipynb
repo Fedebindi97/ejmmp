{
 "cells": [
  {
   "cell_type": "raw",
   "id": "99c5dd99",
   "metadata": {},
   "source": [
    "#np.savetxt(\"aaa.csv\", self.theCentralPlanner.informationTable, delimiter=\",\")\n",
    "#to be converted from a np matrix to a list of lists (use the following example)\n",
    "import csv\n",
    "import pandas as pd\n",
    "\n",
    "a=[ [0,4,5],\\\n",
    "    [0,9,0]]\n",
    "a[0][0]=[1,2,3]\n",
    "a[1][0]=[6,7,8]\n",
    "\n",
    "aa=pd.DataFrame(a)\n",
    "\n",
    "\n",
    "with open(\"out.csv\", \"w\") as f:\n",
    "    wr = csv.writer(f)\n",
    "    wr.writerows(a)"
   ]
  },
  {
   "cell_type": "raw",
   "id": "76435ced",
   "metadata": {},
   "source": [
    "pippo=pd.read_csv('out.csv', header= None)\n",
    "pippo.columns = ['p1', 'p2', 'p3']\n",
    "\n",
    "pippo[['A', 'B', 'C']] = pippo['p1'].str.split(' ', expand = True)\n",
    "\n",
    "# pippo[['A', 'B', 'C']] = something\n",
    "\n",
    "pippo"
   ]
  },
  {
   "cell_type": "code",
   "execution_count": 2,
   "id": "2b83c8bc",
   "metadata": {},
   "outputs": [],
   "source": [
    "import csv\n",
    "import pandas as pd\n",
    "\n",
    "a=[ [0,4,5],\\\n",
    "    [0,9,0]]\n",
    "a[0][0]=[1,2,3]\n",
    "a[1][0]=[6,7,8]\n",
    "\n",
    "aa=pd.DataFrame(a)"
   ]
  },
  {
   "cell_type": "code",
   "execution_count": 3,
   "id": "a93d9338",
   "metadata": {},
   "outputs": [
    {
     "data": {
      "text/html": [
       "<div>\n",
       "<style scoped>\n",
       "    .dataframe tbody tr th:only-of-type {\n",
       "        vertical-align: middle;\n",
       "    }\n",
       "\n",
       "    .dataframe tbody tr th {\n",
       "        vertical-align: top;\n",
       "    }\n",
       "\n",
       "    .dataframe thead th {\n",
       "        text-align: right;\n",
       "    }\n",
       "</style>\n",
       "<table border=\"1\" class=\"dataframe\">\n",
       "  <thead>\n",
       "    <tr style=\"text-align: right;\">\n",
       "      <th></th>\n",
       "      <th>0</th>\n",
       "      <th>1</th>\n",
       "      <th>2</th>\n",
       "    </tr>\n",
       "  </thead>\n",
       "  <tbody>\n",
       "    <tr>\n",
       "      <th>0</th>\n",
       "      <td>[1, 2, 3]</td>\n",
       "      <td>4</td>\n",
       "      <td>5</td>\n",
       "    </tr>\n",
       "    <tr>\n",
       "      <th>1</th>\n",
       "      <td>[6, 7, 8]</td>\n",
       "      <td>9</td>\n",
       "      <td>0</td>\n",
       "    </tr>\n",
       "  </tbody>\n",
       "</table>\n",
       "</div>"
      ],
      "text/plain": [
       "           0  1  2\n",
       "0  [1, 2, 3]  4  5\n",
       "1  [6, 7, 8]  9  0"
      ]
     },
     "execution_count": 3,
     "metadata": {},
     "output_type": "execute_result"
    }
   ],
   "source": [
    "aa"
   ]
  },
  {
   "cell_type": "code",
   "execution_count": 9,
   "id": "dfe87291",
   "metadata": {},
   "outputs": [],
   "source": [
    "aa.to_csv(\"out.csv\")"
   ]
  },
  {
   "cell_type": "code",
   "execution_count": 17,
   "id": "39e347c8",
   "metadata": {},
   "outputs": [
    {
     "ename": "AttributeError",
     "evalue": "'list' object has no attribute 'to_list'",
     "output_type": "error",
     "traceback": [
      "\u001b[0;31m---------------------------------------------------------------------------\u001b[0m",
      "\u001b[0;31mAttributeError\u001b[0m                            Traceback (most recent call last)",
      "Input \u001b[0;32mIn [17]\u001b[0m, in \u001b[0;36m<cell line: 3>\u001b[0;34m()\u001b[0m\n\u001b[1;32m      1\u001b[0m \u001b[38;5;66;03m#.str.split(' ', expand = True)\u001b[39;00m\n\u001b[1;32m      3\u001b[0m \u001b[38;5;28;01mfor\u001b[39;00m i \u001b[38;5;129;01min\u001b[39;00m \u001b[38;5;28mrange\u001b[39m(\u001b[38;5;28mlen\u001b[39m(aa)):\n\u001b[0;32m----> 4\u001b[0m     \u001b[43maa\u001b[49m\u001b[43m[\u001b[49m\u001b[38;5;241;43m0\u001b[39;49m\u001b[43m]\u001b[49m\u001b[43m[\u001b[49m\u001b[43mi\u001b[49m\u001b[43m]\u001b[49m\u001b[38;5;241;43m.\u001b[39;49m\u001b[43mto_list\u001b[49m()\n\u001b[1;32m      6\u001b[0m aa\n",
      "\u001b[0;31mAttributeError\u001b[0m: 'list' object has no attribute 'to_list'"
     ]
    }
   ],
   "source": [
    "#.str.split(' ', expand = True)\n",
    "\n",
    "for i in range(len(aa)):\n",
    "    aa[0][i].to_list()\n",
    "    \n",
    "aa"
   ]
  },
  {
   "cell_type": "code",
   "execution_count": null,
   "id": "fec73d0b",
   "metadata": {},
   "outputs": [],
   "source": []
  }
 ],
 "metadata": {
  "kernelspec": {
   "display_name": "Python 3 (ipykernel)",
   "language": "python",
   "name": "python3"
  },
  "language_info": {
   "codemirror_mode": {
    "name": "ipython",
    "version": 3
   },
   "file_extension": ".py",
   "mimetype": "text/x-python",
   "name": "python",
   "nbconvert_exporter": "python",
   "pygments_lexer": "ipython3",
   "version": "3.8.10"
  }
 },
 "nbformat": 4,
 "nbformat_minor": 5
}
